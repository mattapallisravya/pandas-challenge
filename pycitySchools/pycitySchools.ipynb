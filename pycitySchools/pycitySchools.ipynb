{
 "cells": [
  {
   "cell_type": "code",
   "execution_count": null,
   "id": "522a798c",
   "metadata": {},
   "outputs": [],
   "source": [
    "#Dependencies and Setup\n",
    "import pandas as pd"
   ]
  },
  {
   "cell_type": "code",
   "execution_count": null,
   "id": "29c1f611",
   "metadata": {},
   "outputs": [],
   "source": [
    "# File to Load (Remember to Change These)\n",
    "school_data_to_load = \"Resources/schools_complete.csv\"\n",
    "student_data_to_load = \"Resources/students_complete.csv\"\n",
    "\n",
    "# Read School and Student Data File and store into Pandas DataFrames\n",
    "school_data = pd.read_csv(school_data_to_load)\n",
    "student_data = pd.read_csv(student_data_to_load)\n",
    "\n",
    "# Combine the data into a single dataset.  \n",
    "complete_school_data = pd.merge(student_data, school_data, how=\"left\", on=[\"school_name\", \"school_name\"])\n",
    "complete_school_data.head(10)"
   ]
  },
  {
   "cell_type": "markdown",
   "id": "da50d244",
   "metadata": {},
   "source": [
    "District Summary"
   ]
  },
  {
   "cell_type": "code",
   "execution_count": null,
   "id": "50e44b7b",
   "metadata": {},
   "outputs": [],
   "source": [
    "# Checking if there are any empty rows\n",
    "complete_school_data.count()"
   ]
  },
  {
   "cell_type": "code",
   "execution_count": null,
   "id": "53a60723",
   "metadata": {},
   "outputs": [],
   "source": [
    "# Total number of unique schools\n",
    "school_count = complete_school_data[\"school_name\"].nunique()\n",
    "school_count"
   ]
  },
  {
   "cell_type": "code",
   "execution_count": null,
   "id": "1a293815",
   "metadata": {},
   "outputs": [],
   "source": [
    "# Total number of students\n",
    "students_count = complete_school_data[\"Student ID\"].count()\n",
    "students_count"
   ]
  },
  {
   "cell_type": "code",
   "execution_count": null,
   "id": "32db4d3f",
   "metadata": {},
   "outputs": [],
   "source": [
    "# Total budget\n",
    "total_budget = complete_school_data[\"budget\"].unique().sum()\n",
    "total_budget "
   ]
  },
  {
   "cell_type": "code",
   "execution_count": null,
   "id": "2f6f870e",
   "metadata": {},
   "outputs": [],
   "source": [
    "# Total budget\n",
    "#pd.unique(complete_school_data[[\"school_name\", \"budget\"] ].values.ravel('k'))\n"
   ]
  },
  {
   "cell_type": "code",
   "execution_count": null,
   "id": "c739808f",
   "metadata": {},
   "outputs": [],
   "source": [
    "# Average math score\n",
    "Avg_math_score = complete_school_data[\"math_score\"].mean()\n",
    "Avg_math_score"
   ]
  },
  {
   "cell_type": "code",
   "execution_count": null,
   "id": "500c1cd4",
   "metadata": {},
   "outputs": [],
   "source": [
    "# Average reading score\n",
    "Avg_reading_score = complete_school_data[\"reading_score\"].mean()\n",
    "Avg_reading_score"
   ]
  },
  {
   "cell_type": "code",
   "execution_count": null,
   "id": "dea0bd88",
   "metadata": {},
   "outputs": [],
   "source": [
    "# Percentage of students passed math those secured above 70\n",
    "percent_students_passed_math =((complete_school_data.loc[complete_school_data[\"math_score\"]>=70,\n",
    "                                               \"math_score\"].count())/students_count)*100\n",
    "percent_students_passed_math"
   ]
  },
  {
   "cell_type": "code",
   "execution_count": null,
   "id": "e5019ab3",
   "metadata": {},
   "outputs": [],
   "source": [
    "percent_students_passed_reading = ((complete_school_data.loc[complete_school_data[\"reading_score\"]>=70,\n",
    "                                                    \"reading_score\"].count())/students_count)*100\n",
    "percent_students_passed_reading"
   ]
  },
  {
   "cell_type": "code",
   "execution_count": null,
   "id": "1a8d924a",
   "metadata": {},
   "outputs": [],
   "source": [
    "overall_passing_percent = ((complete_school_data.loc[(complete_school_data[\"math_score\"]>=70)&\n",
    "                        (complete_school_data[\"reading_score\"]>=70),\"Student ID\"]\n",
    "                        .count())/students_count)*100\n",
    "overall_passing_percent"
   ]
  },
  {
   "cell_type": "code",
   "execution_count": null,
   "id": "1e72ff7d",
   "metadata": {},
   "outputs": [],
   "source": [
    "district_df = pd.DataFrame([{\"Total Schools\":school_count, \"Total Students\":students_count,\n",
    "             \"Total Budget\": total_budget, \"Average Math Score\":Avg_math_score,\n",
    "             \"Average Reading Score\":Avg_reading_score, \"%Passed Math\": percent_students_passed_math,\n",
    "             \"%Passed Reading\":percent_students_passed_reading, \"Overall Pass Percent\":overall_passing_percent}])\n",
    "district_df"
   ]
  },
  {
   "cell_type": "markdown",
   "id": "90426059",
   "metadata": {},
   "source": [
    "School Summary"
   ]
  },
  {
   "cell_type": "code",
   "execution_count": null,
   "id": "49524a37",
   "metadata": {
    "scrolled": true
   },
   "outputs": [],
   "source": [
    "# Use the code provided to select the school type\n",
    "school_types = school_data.set_index([\"school_name\"])[\"type\"]\n",
    "school_types"
   ]
  },
  {
   "cell_type": "code",
   "execution_count": null,
   "id": "85a16fca",
   "metadata": {},
   "outputs": [],
   "source": [
    "# groupedby_school_name = complete_school_data.groupby([\"school_name\"])\n",
    "# groupedby_school_name"
   ]
  },
  {
   "cell_type": "code",
   "execution_count": null,
   "id": "b80b4a43",
   "metadata": {},
   "outputs": [],
   "source": [
    "# Total Students in each school\n",
    "groupedby_school_name = complete_school_data.groupby([\"school_name\"])\n",
    "total_students_per_school = groupedby_school_name.count()[\"Student ID\"]\n",
    "total_students_per_school\n",
    "#groupedby_school_name"
   ]
  },
  {
   "cell_type": "code",
   "execution_count": null,
   "id": "12fbef0f",
   "metadata": {},
   "outputs": [],
   "source": [
    "budget_per_school = groupedby_school_name.mean()[\"budget\"]\n",
    "budget_per_school"
   ]
  },
  {
   "cell_type": "code",
   "execution_count": null,
   "id": "b2a520b9",
   "metadata": {},
   "outputs": [],
   "source": [
    "# Per student budget\n",
    "budget_per_student = budget_per_school/total_students_per_school\n",
    "budget_per_student"
   ]
  },
  {
   "cell_type": "code",
   "execution_count": null,
   "id": "a5f936af",
   "metadata": {},
   "outputs": [],
   "source": [
    "# Average math score\n",
    "avg_math_score_per_school = groupedby_school_name.mean()[\"math_score\"]"
   ]
  },
  {
   "cell_type": "code",
   "execution_count": null,
   "id": "46713161",
   "metadata": {},
   "outputs": [],
   "source": [
    "avg_reading_score_per_school = groupedby_school_name.mean()[\"reading_score\"]\n",
    "avg_reading_score_per_school"
   ]
  },
  {
   "cell_type": "code",
   "execution_count": null,
   "id": "cfbc2f6a",
   "metadata": {},
   "outputs": [],
   "source": [
    "# Percentage of students passed math per school\n",
    "passed_students_m = complete_school_data.query(\"math_score >= 70\")\n",
    "#passed_students = passed_students.filter([\"school_name\", \"math_score\"])\n",
    "percent_passed_math_per_school = ((passed_students.groupby(\"school_name\").count()\n",
    "                                      [\"math_score\"])/total_students_per_school)*100\n",
    "percent_passed_math_per_school"
   ]
  },
  {
   "cell_type": "code",
   "execution_count": null,
   "id": "6897eaf5",
   "metadata": {},
   "outputs": [],
   "source": [
    "# Percentage of students passed Reading per school\n",
    "passed_students_r = complete_school_data.query(\"reading_score >= 70\")\n",
    "percent_passed_reading_per_school = ((passed_students_r.groupby(\"school_name\").count()\n",
    "                                        [\"reading_score\"])/total_students_per_school)*100\n",
    "percent_passed_reading_per_school"
   ]
  },
  {
   "cell_type": "code",
   "execution_count": null,
   "id": "97b025b3",
   "metadata": {},
   "outputs": [],
   "source": [
    "# Overall pass percent per school\n",
    "overall_passed = complete_school_data.query(\"reading_score >= 70 & math_score >= 70\")\n",
    "overall_pass_percent = ((overall_passed.groupby(\"school_name\").count()\n",
    "                                        [\"Student ID\"])/total_students_per_school)*100\n",
    "overall_pass_percent\n"
   ]
  },
  {
   "cell_type": "code",
   "execution_count": null,
   "id": "8095813f",
   "metadata": {},
   "outputs": [],
   "source": [
    "# Dataframe for school summary\n",
    "school_summary = pd.DataFrame({\"School type\": school_types ,\n",
    "                               \"Total Students\":total_students_per_school, \n",
    "                               \"Total School Budget\": budget_per_school,\n",
    "                               \"Per Student Budget\" : budget_per_student,\n",
    "                               \"Average Math Score\" : avg_math_score_per_school,\n",
    "                               \"Average Reading Score\": avg_reading_score_per_school,\n",
    "                               \"% Passed Math\" : percent_passed_math_per_school,\n",
    "                               \"% Passed Reading\": percent_passed_reading_per_school,\n",
    "                               \"Overall Pass %\" : overall_pass_percent})\n",
    "school_summary"
   ]
  },
  {
   "cell_type": "code",
   "execution_count": null,
   "id": "f9585154",
   "metadata": {},
   "outputs": [],
   "source": [
    "# sorted schools based on overall pass percent and display top 5 schools\n",
    "top_schools = school_summary.sort_values(\"Overall Pass %\", ascending = False)\n",
    "top_schools.head()"
   ]
  },
  {
   "cell_type": "code",
   "execution_count": null,
   "id": "72f2fc19",
   "metadata": {},
   "outputs": [],
   "source": [
    "# sorted schools based on overall pass percent and display 5 schools with low pass percent\n",
    "bottom_schools = school_summary.sort_values(\"Overall Pass %\")\n",
    "bottom_schools.head()"
   ]
  },
  {
   "cell_type": "code",
   "execution_count": null,
   "id": "9a9aff14",
   "metadata": {},
   "outputs": [],
   "source": [
    "complete_school_data.head(10)"
   ]
  },
  {
   "cell_type": "code",
   "execution_count": null,
   "id": "985b9d36",
   "metadata": {},
   "outputs": [],
   "source": [
    "# Average math scores by grade\n",
    "\n",
    "# Use the code provided to separate the data by grade\n",
    "ninth_graders = complete_school_data[(complete_school_data[\"grade\"] == \"9th\")]\n",
    "tenth_graders = complete_school_data[(complete_school_data[\"grade\"] == \"10th\")]\n",
    "eleventh_graders = complete_school_data[(complete_school_data[\"grade\"] == \"11th\")]\n",
    "twelfth_graders = complete_school_data[(complete_school_data[\"grade\"] == \"12th\")]\n",
    "\n",
    "#Group by \"school_name\" and take the mean of each.\n",
    "ninth_grade_math_scores = ninth_graders.groupby(\"school_name\").mean()[\"math_score\"]\n",
    "tenth_grader_math_scores = tenth_graders.groupby(\"school_name\").mean()[\"math_score\"]\n",
    "eleventh_grader_math_scores = eleventh_graders.groupby(\"school_name\").mean()[\"math_score\"]\n",
    "twelfth_grader_math_scores = twelfth_graders.groupby(\"school_name\").mean()[\"math_score\"]\n",
    "\n",
    "# Combine each of the scores above into single DataFrame called `math_scores_by_grade`\n",
    "math_scores_by_grade = pd.DataFrame({\"9th\":ninth_grade_math_scores, \"10th\":tenth_grader_math_scores,\n",
    "                          \"11th\":eleventh_grader_math_scores, \"12th\":twelfth_grader_math_scores})\n",
    "\n",
    "\n",
    "# Minor data wrangling\n",
    "math_scores_by_grade.index.name = None\n",
    "\n",
    "# Display the DataFrame\n",
    "math_scores_by_grade\n",
    "\n",
    "# avg_math_score_by_grade = avg_score_by_grade[\"math_score\"].mean()\n",
    "# #math_score_df = pd.DataFrame()\n",
    "# #.sort_values([\"school_name\",\"grade\"],ascending = False)\n",
    "# avg_math_score_by_grade"
   ]
  },
  {
   "cell_type": "code",
   "execution_count": null,
   "id": "cf6e77ab",
   "metadata": {},
   "outputs": [],
   "source": [
    "#Group by \"school_name\" and take the mean of each.\n",
    "ninth_grade_reading_scores = ninth_graders.groupby(\"school_name\").mean()[\"reading_score\"]\n",
    "tenth_grader_reading_scores = tenth_graders.groupby(\"school_name\").mean()[\"reading_score\"]\n",
    "eleventh_grader_reading_scores = eleventh_graders.groupby(\"school_name\").mean()[\"reading_score\"]\n",
    "twelfth_grader_reading_scores = twelfth_graders.groupby(\"school_name\").mean()[\"reading_score\"]\n",
    "\n",
    "# Combine each of the scores above into single DataFrame called `reading_scores_by_grade`\n",
    "reading_scores_by_grade = pd.DataFrame({\"9th\":ninth_grade_reading_scores,\n",
    "                                       \"10th\":tenth_grader_reading_scores,\n",
    "                                       \"11th\":eleventh_grader_reading_scores,\n",
    "                                       \"12th\":twelfth_grader_reading_scores})\n",
    "\n",
    "# Minor data wrangling\n",
    "reading_scores_by_grade.index.name = None\n",
    "\n",
    "# Display the DataFrame\n",
    "reading_scores_by_grade"
   ]
  },
  {
   "cell_type": "code",
   "execution_count": null,
   "id": "c1494757",
   "metadata": {},
   "outputs": [],
   "source": []
  }
 ],
 "metadata": {
  "kernelspec": {
   "display_name": "Python [conda env:pythondata1] *",
   "language": "python",
   "name": "conda-env-pythondata1-py"
  },
  "language_info": {
   "codemirror_mode": {
    "name": "ipython",
    "version": 3
   },
   "file_extension": ".py",
   "mimetype": "text/x-python",
   "name": "python",
   "nbconvert_exporter": "python",
   "pygments_lexer": "ipython3",
   "version": "3.6.10"
  }
 },
 "nbformat": 4,
 "nbformat_minor": 5
}
